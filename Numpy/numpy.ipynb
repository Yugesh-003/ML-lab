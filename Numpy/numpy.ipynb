{
 "cells": [
  {
   "cell_type": "markdown",
   "id": "9691cbb6",
   "metadata": {},
   "source": [
    "# NUMPY "
   ]
  },
  {
   "cell_type": "code",
   "execution_count": 1,
   "id": "0f19e44e",
   "metadata": {},
   "outputs": [],
   "source": [
    "import numpy as np"
   ]
  },
  {
   "cell_type": "markdown",
   "id": "8d53e615",
   "metadata": {},
   "source": [
    "17/07\n"
   ]
  },
  {
   "cell_type": "markdown",
   "id": "21547ce3",
   "metadata": {},
   "source": [
    "###  Creating an array"
   ]
  },
  {
   "cell_type": "markdown",
   "id": "81e9dde4",
   "metadata": {},
   "source": [
    "1) Create an array from a list"
   ]
  },
  {
   "cell_type": "code",
   "execution_count": null,
   "id": "4457a835",
   "metadata": {},
   "outputs": [
    {
     "name": "stdout",
     "output_type": "stream",
     "text": [
      "[1 2 3 4 5]\n",
      "<class 'numpy.ndarray'>\n"
     ]
    }
   ],
   "source": [
    "\n",
    "arr = np.array([1, 2, 3, 4, 5])\n",
    "print(arr)\n",
    "print(type(arr))"
   ]
  },
  {
   "cell_type": "markdown",
   "id": "52197675",
   "metadata": {},
   "source": [
    "2. Create an array from a tuple"
   ]
  },
  {
   "cell_type": "code",
   "execution_count": null,
   "id": "c3860783",
   "metadata": {},
   "outputs": [
    {
     "name": "stdout",
     "output_type": "stream",
     "text": [
      "[1 2 3 4 5]\n",
      "<class 'numpy.ndarray'>\n"
     ]
    }
   ],
   "source": [
    "\n",
    "arr = np.array((1, 2, 3, 4, 5))\n",
    "print(arr)\n",
    "print(type(arr))"
   ]
  },
  {
   "cell_type": "markdown",
   "id": "8dec1dc9",
   "metadata": {},
   "source": [
    "3) Create an array from a set"
   ]
  },
  {
   "cell_type": "code",
   "execution_count": null,
   "id": "34c417b2",
   "metadata": {},
   "outputs": [
    {
     "name": "stdout",
     "output_type": "stream",
     "text": [
      "{1, 2, 3, 4, 5}\n",
      "<class 'numpy.ndarray'>\n"
     ]
    }
   ],
   "source": [
    "\n",
    "arr = np.array({1, 2, 3, 4, 5})\n",
    "print(arr)\n",
    "print(type(arr))"
   ]
  },
  {
   "cell_type": "markdown",
   "id": "9e6ebf79",
   "metadata": {},
   "source": [
    "4) Create a 0-dimensional array and display data type and array"
   ]
  },
  {
   "cell_type": "code",
   "execution_count": null,
   "id": "ea84d5bc",
   "metadata": {},
   "outputs": [
    {
     "name": "stdout",
     "output_type": "stream",
     "text": [
      "49\n",
      "0\n"
     ]
    }
   ],
   "source": [
    "arr = np.array(49)\n",
    "print(arr)\n",
    "print(arr.ndim)"
   ]
  },
  {
   "cell_type": "markdown",
   "id": "8004d526",
   "metadata": {},
   "source": [
    "5) Create a 1-dimensional array and display data type and array"
   ]
  },
  {
   "cell_type": "code",
   "execution_count": null,
   "id": "df588f35",
   "metadata": {},
   "outputs": [
    {
     "name": "stdout",
     "output_type": "stream",
     "text": [
      "[1 2 3]\n",
      "1\n"
     ]
    }
   ],
   "source": [
    "arr = np.array([1,2,3])\n",
    "print(arr)\n",
    "print(arr.ndim)"
   ]
  },
  {
   "cell_type": "markdown",
   "id": "3502bce8",
   "metadata": {},
   "source": [
    "6) Create a 2-dimensional array and display data type and array"
   ]
  },
  {
   "cell_type": "code",
   "execution_count": null,
   "id": "2a7f2073",
   "metadata": {},
   "outputs": [
    {
     "name": "stdout",
     "output_type": "stream",
     "text": [
      "[[1 2 3]\n",
      " [4 5 6]\n",
      " [7 8 9]]\n",
      "2\n"
     ]
    }
   ],
   "source": [
    "\n",
    "arr = np.array([[1,2,3],[4,5,6],[7,8,9]])\n",
    "print(arr)\n",
    "print(arr.ndim)"
   ]
  },
  {
   "cell_type": "markdown",
   "id": "1261652d",
   "metadata": {},
   "source": [
    "19/07"
   ]
  },
  {
   "cell_type": "markdown",
   "id": "a1f83804",
   "metadata": {},
   "source": [
    "### Accessing an array"
   ]
  },
  {
   "cell_type": "code",
   "execution_count": null,
   "id": "78b2aac0",
   "metadata": {},
   "outputs": [
    {
     "name": "stdout",
     "output_type": "stream",
     "text": [
      "1\n",
      "4\n"
     ]
    }
   ],
   "source": [
    "\n",
    "arr = np.array([1, 2, 3, 4, 5])  #1-d array\n",
    "print(arr[0])\n",
    "print(arr[-2])\n"
   ]
  },
  {
   "cell_type": "code",
   "execution_count": null,
   "id": "1ff7608a",
   "metadata": {},
   "outputs": [
    {
     "name": "stdout",
     "output_type": "stream",
     "text": [
      "2\n",
      "6\n",
      "9\n"
     ]
    }
   ],
   "source": [
    "\n",
    "arr = np.array([[1, 2, 3], [4, 5, 6], [7, 8, 9]])  # 2-d array\n",
    "print(arr[0, 1])\n",
    "print(arr[1, -1])\n",
    "print(arr[2, 2])"
   ]
  },
  {
   "cell_type": "markdown",
   "id": "45a8a973",
   "metadata": {},
   "source": [
    "### Slicing an 1d array"
   ]
  },
  {
   "cell_type": "code",
   "execution_count": null,
   "id": "15dbff4b",
   "metadata": {},
   "outputs": [
    {
     "name": "stdout",
     "output_type": "stream",
     "text": [
      "[2 3]\n",
      "[2 3]\n",
      "[1 3 5]\n",
      "[1 2 3 4 5]\n",
      "[3 4 5]\n",
      "[1 2 3]\n"
     ]
    }
   ],
   "source": [
    "\n",
    "arr = np.array([1, 2, 3, 4, 5])\n",
    "print(arr[1:3])\n",
    "print(arr[-4:-2])\n",
    "print(arr[::2])\n",
    "print(arr[::])\n",
    "print(arr[2:])\n",
    "print(arr[:3])\n"
   ]
  },
  {
   "cell_type": "markdown",
   "id": "2c1df02f",
   "metadata": {},
   "source": [
    "### Slicing and 2d array"
   ]
  },
  {
   "cell_type": "code",
   "execution_count": null,
   "id": "9775d1c6",
   "metadata": {},
   "outputs": [
    {
     "name": "stdout",
     "output_type": "stream",
     "text": [
      "9\n",
      "[3 8]\n",
      "8\n"
     ]
    }
   ],
   "source": [
    "\n",
    "arr = np.array([[1,2,3,4,5],[6,7,8,9,10]])\n",
    "print(arr[1,3])\n",
    "print(arr[0:2,2])\n",
    "print(arr[1,2])"
   ]
  },
  {
   "cell_type": "markdown",
   "id": "e9463d1f",
   "metadata": {},
   "source": [
    "### Checking data types"
   ]
  },
  {
   "cell_type": "code",
   "execution_count": null,
   "id": "700f5385",
   "metadata": {},
   "outputs": [
    {
     "name": "stdout",
     "output_type": "stream",
     "text": [
      "float64\n"
     ]
    }
   ],
   "source": [
    "\n",
    "arr = np.array([1.1, 2.2, 3.3, 4.4])\n",
    "print(arr.dtype)"
   ]
  },
  {
   "cell_type": "code",
   "execution_count": null,
   "id": "e6cfbc83",
   "metadata": {},
   "outputs": [
    {
     "name": "stdout",
     "output_type": "stream",
     "text": [
      "int32\n"
     ]
    }
   ],
   "source": [
    "\n",
    "arr = np.array([1,2,3,4,5])\n",
    "print(arr.dtype)"
   ]
  },
  {
   "cell_type": "code",
   "execution_count": null,
   "id": "08b51a0c",
   "metadata": {},
   "outputs": [
    {
     "name": "stdout",
     "output_type": "stream",
     "text": [
      "float32\n"
     ]
    }
   ],
   "source": [
    "\n",
    "arr = np.array([1,2,3,4,5],dtype='f')\n",
    "print(arr.dtype)"
   ]
  },
  {
   "cell_type": "code",
   "execution_count": null,
   "id": "9a58a196",
   "metadata": {},
   "outputs": [
    {
     "name": "stdout",
     "output_type": "stream",
     "text": [
      "|S2\n",
      "[b'1' b'4' b'3' b'44' b'55']\n"
     ]
    }
   ],
   "source": [
    "arr = np.array([1,4,3,4,5],dtype='S')\n",
    "print(arr.dtype)\n",
    "print(arr)"
   ]
  },
  {
   "cell_type": "code",
   "execution_count": null,
   "id": "6c31ff85",
   "metadata": {},
   "outputs": [
    {
     "name": "stdout",
     "output_type": "stream",
     "text": [
      "<U4\n"
     ]
    }
   ],
   "source": [
    "arr = np.array(['y gg'])\n",
    "print(arr.dtype)"
   ]
  },
  {
   "cell_type": "markdown",
   "id": "ffde87c9",
   "metadata": {},
   "source": [
    "### Copy and view in an array\n"
   ]
  },
  {
   "cell_type": "code",
   "execution_count": null,
   "id": "c7115db6",
   "metadata": {},
   "outputs": [
    {
     "name": "stdout",
     "output_type": "stream",
     "text": [
      "The value of arr :  [1 2 3 4]\n",
      "The value of x :  [0 2 3 4]\n"
     ]
    }
   ],
   "source": [
    "arr = np.array([1,2,3,4])\n",
    "\n",
    "x = arr.copy()   # makeing a copy to a new array\n",
    "x[0] = 0\n",
    "\n",
    "print(\"The value of arr : \",arr)  #output the original array\n",
    "print(\"The value of x : \",x)   # output is changed "
   ]
  },
  {
   "cell_type": "code",
   "execution_count": null,
   "id": "226c14c4",
   "metadata": {},
   "outputs": [
    {
     "name": "stdout",
     "output_type": "stream",
     "text": [
      "The value of arr :  [0 2 3 4]\n",
      "The value of x :  [0 2 3 4]\n"
     ]
    }
   ],
   "source": [
    "arr = np.array([1,2,3,4])\n",
    "\n",
    "x = arr.view()    # view, it is a view of the original array\n",
    "x[0] = 0\n",
    "\n",
    "print(\"The value of arr : \",arr)  #ouput  the original array\n",
    "print(\"The value of x : \",x)   # output is not changed"
   ]
  },
  {
   "cell_type": "markdown",
   "id": "6d17983e",
   "metadata": {},
   "source": [
    "### Displaying the shape of the array"
   ]
  },
  {
   "cell_type": "code",
   "execution_count": null,
   "id": "414c9b23",
   "metadata": {},
   "outputs": [
    {
     "name": "stdout",
     "output_type": "stream",
     "text": [
      "(3,)\n"
     ]
    }
   ],
   "source": [
    "arr = np.array([10,6,7])  #is a 1d array\n",
    "print(arr.shape)  #gives the shape of the array"
   ]
  },
  {
   "cell_type": "code",
   "execution_count": null,
   "id": "d4edb6d1",
   "metadata": {},
   "outputs": [
    {
     "name": "stdout",
     "output_type": "stream",
     "text": [
      "(2, 4)\n"
     ]
    }
   ],
   "source": [
    "arr = np.array([[1,3,5,7],[3,3,4,5]])  #is a 2d array\n",
    "print(arr.shape)  #gives the shape of the array"
   ]
  },
  {
   "cell_type": "code",
   "execution_count": null,
   "id": "320bc941",
   "metadata": {},
   "outputs": [
    {
     "name": "stdout",
     "output_type": "stream",
     "text": [
      "(1, 2, 2)\n"
     ]
    }
   ],
   "source": [
    "arr = np.array([\n",
    "                [[1,2],\n",
    "                 [4,5]]\n",
    "                        ])   #is a 3d array\n",
    "print(arr.shape)   #gives the shape of the array"
   ]
  },
  {
   "cell_type": "code",
   "execution_count": 21,
   "id": "c8ec351a",
   "metadata": {},
   "outputs": [
    {
     "name": "stdout",
     "output_type": "stream",
     "text": [
      "[[ 1  2  3  4]\n",
      " [ 5  6  7  8]\n",
      " [ 9 10 11 12]]\n",
      "[ 1  2  3  4  5  6  7  8  9 10 11 12]\n",
      "[ 1  5  9  2  6 10  3  7 11  4  8 12]\n",
      "after changes have made\n",
      "new arr :  [ 0  5  9  2  6 10  3  7 11  4  8 12]\n",
      "og arr :  [1 5 9]\n"
     ]
    }
   ],
   "source": [
    "import numpy as np\n",
    "arr = np.array([[1, 2, 3, 4], [5, 6, 7, 8],[9,10,11,12]])\n",
    "print(arr)\n",
    "\n",
    "newarr=arr.flatten('C')\n",
    "print(newarr)\n",
    "\n",
    "newarr=arr.flatten('f')\n",
    "print(newarr)\n",
    "newarr[0] = 0\n",
    "print(\"after changes have made\")\n",
    "print(\"new arr : \",newarr)\n",
    "print(\"og arr : \",arr[:,0])"
   ]
  },
  {
   "cell_type": "code",
   "execution_count": 19,
   "id": "2827cf8c",
   "metadata": {},
   "outputs": [
    {
     "name": "stdout",
     "output_type": "stream",
     "text": [
      "[[ 1  2  3  4]\n",
      " [ 5  6  7  8]\n",
      " [ 9 10 11 12]]\n",
      "[ 1  2  3  4  5  6  7  8  9 10 11 12]\n",
      "[ 1  5  9  2  6 10  3  7 11  4  8 12]\n",
      "after changes have made\n",
      "new arr :  [ 0  5  9  2  6 10  3  7 11  4  8 12]\n",
      "og arr :  [1 5 9]\n"
     ]
    }
   ],
   "source": [
    "import numpy as np\n",
    "arr = np.array([[1, 2, 3, 4], [5, 6, 7, 8],[9,10,11,12]])\n",
    "print(arr)\n",
    "\n",
    "newarr=arr.ravel('C')\n",
    "print(newarr)\n",
    "\n",
    "newarr=arr.ravel('f')\n",
    "print(newarr)\n",
    "newarr[0] = 0\n",
    "print(\"after changes have made\")\n",
    "print(\"new arr : \",newarr)\n",
    "print(\"og arr : \",arr[:,0])"
   ]
  },
  {
   "cell_type": "code",
   "execution_count": 25,
   "id": "6b577490",
   "metadata": {},
   "outputs": [
    {
     "name": "stdout",
     "output_type": "stream",
     "text": [
      "Original array:\n",
      " [[1 2]\n",
      " [3 4]]\n",
      "Og array after the changes:\n",
      " [[100   2]\n",
      " [  3   4]]\n",
      "ravel result:\n",
      " [100   2   3   4]\n",
      "flatten result:\n",
      " [1 2 3 4]\n"
     ]
    }
   ],
   "source": [
    "import numpy as np\n",
    "\n",
    "a = np.array([[1, 2], [3, 4]])\n",
    "\n",
    "print(\"Original array:\\n\", a)\n",
    "\n",
    "# ravel() - may return a view\n",
    "r = a.ravel()\n",
    "\n",
    "# flatten() - always returns a copy\n",
    "f = a.flatten()\n",
    "\n",
    "# Modifying r may change 'a' if it's a view\n",
    "r[0] = 100\n",
    "\n",
    "print(\"Og array after the changes:\\n\", a)\n",
    "print(\"ravel result:\\n\", r)\n",
    "print(\"flatten result:\\n\", f)\n"
   ]
  },
  {
   "cell_type": "code",
   "execution_count": null,
   "id": "bbb56b66",
   "metadata": {},
   "outputs": [],
   "source": []
  }
 ],
 "metadata": {
  "kernelspec": {
   "display_name": "base",
   "language": "python",
   "name": "python3"
  },
  "language_info": {
   "codemirror_mode": {
    "name": "ipython",
    "version": 3
   },
   "file_extension": ".py",
   "mimetype": "text/x-python",
   "name": "python",
   "nbconvert_exporter": "python",
   "pygments_lexer": "ipython3",
   "version": "3.10.9"
  }
 },
 "nbformat": 4,
 "nbformat_minor": 5
}
