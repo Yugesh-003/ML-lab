{
 "cells": [
  {
   "cell_type": "markdown",
   "id": "9691cbb6",
   "metadata": {},
   "source": [
    "# NUMPY "
   ]
  },
  {
   "cell_type": "markdown",
   "id": "8d53e615",
   "metadata": {},
   "source": [
    "17/07\n"
   ]
  },
  {
   "cell_type": "markdown",
   "id": "21547ce3",
   "metadata": {},
   "source": [
    "###  Creating an array"
   ]
  },
  {
   "cell_type": "markdown",
   "id": "81e9dde4",
   "metadata": {},
   "source": [
    "1) Create an array from a list"
   ]
  },
  {
   "cell_type": "code",
   "execution_count": 4,
   "id": "4457a835",
   "metadata": {},
   "outputs": [
    {
     "name": "stdout",
     "output_type": "stream",
     "text": [
      "[1 2 3 4 5]\n",
      "<class 'numpy.ndarray'>\n"
     ]
    }
   ],
   "source": [
    "import numpy as np\n",
    "arr = np.array([1, 2, 3, 4, 5])\n",
    "print(arr)\n",
    "print(type(arr))"
   ]
  },
  {
   "cell_type": "markdown",
   "id": "52197675",
   "metadata": {},
   "source": [
    "2. Create an array from a tuple"
   ]
  },
  {
   "cell_type": "code",
   "execution_count": 5,
   "id": "c3860783",
   "metadata": {},
   "outputs": [
    {
     "name": "stdout",
     "output_type": "stream",
     "text": [
      "[1 2 3 4 5]\n",
      "<class 'numpy.ndarray'>\n"
     ]
    }
   ],
   "source": [
    "import numpy as np\n",
    "arr = np.array((1, 2, 3, 4, 5))\n",
    "print(arr)\n",
    "print(type(arr))"
   ]
  },
  {
   "cell_type": "markdown",
   "id": "8dec1dc9",
   "metadata": {},
   "source": [
    "3) Create an array from a set"
   ]
  },
  {
   "cell_type": "code",
   "execution_count": 8,
   "id": "34c417b2",
   "metadata": {},
   "outputs": [
    {
     "name": "stdout",
     "output_type": "stream",
     "text": [
      "{1, 2, 3, 4, 5}\n",
      "<class 'numpy.ndarray'>\n"
     ]
    }
   ],
   "source": [
    "import numpy as np\n",
    "arr = np.array({1, 2, 3, 4, 5})\n",
    "print(arr)\n",
    "print(type(arr))"
   ]
  },
  {
   "cell_type": "markdown",
   "id": "9e6ebf79",
   "metadata": {},
   "source": [
    "4) Create a 0-dimensional array and display data type and array"
   ]
  },
  {
   "cell_type": "code",
   "execution_count": 12,
   "id": "ea84d5bc",
   "metadata": {},
   "outputs": [
    {
     "name": "stdout",
     "output_type": "stream",
     "text": [
      "49\n",
      "0\n"
     ]
    }
   ],
   "source": [
    "import numpy as np\n",
    "arr = np.array(49)\n",
    "print(arr)\n",
    "print(arr.ndim)"
   ]
  },
  {
   "cell_type": "markdown",
   "id": "8004d526",
   "metadata": {},
   "source": [
    "5) Create a 1-dimensional array and display data type and array"
   ]
  },
  {
   "cell_type": "code",
   "execution_count": 13,
   "id": "df588f35",
   "metadata": {},
   "outputs": [
    {
     "name": "stdout",
     "output_type": "stream",
     "text": [
      "[1 2 3]\n",
      "1\n"
     ]
    }
   ],
   "source": [
    "import numpy as np\n",
    "arr = np.array([1,2,3])\n",
    "print(arr)\n",
    "print(arr.ndim)"
   ]
  },
  {
   "cell_type": "markdown",
   "id": "3502bce8",
   "metadata": {},
   "source": [
    "6) Create a 2-dimensional array and display data type and array"
   ]
  },
  {
   "cell_type": "code",
   "execution_count": 15,
   "id": "2a7f2073",
   "metadata": {},
   "outputs": [
    {
     "name": "stdout",
     "output_type": "stream",
     "text": [
      "[[1 2 3]\n",
      " [4 5 6]\n",
      " [7 8 9]]\n",
      "2\n"
     ]
    }
   ],
   "source": [
    "import numpy as np\n",
    "arr = np.array([[1,2,3],[4,5,6],[7,8,9]])\n",
    "print(arr)\n",
    "print(arr.ndim)"
   ]
  },
  {
   "cell_type": "markdown",
   "id": "1261652d",
   "metadata": {},
   "source": [
    "19/07"
   ]
  },
  {
   "cell_type": "markdown",
   "id": "a1f83804",
   "metadata": {},
   "source": [
    "### Accessing an array"
   ]
  },
  {
   "cell_type": "code",
   "execution_count": 8,
   "id": "78b2aac0",
   "metadata": {},
   "outputs": [
    {
     "name": "stdout",
     "output_type": "stream",
     "text": [
      "1\n",
      "4\n"
     ]
    }
   ],
   "source": [
    "import numpy as np\n",
    "arr = np.array([1, 2, 3, 4, 5])  #1-d array\n",
    "print(arr[0])\n",
    "print(arr[-2])\n"
   ]
  },
  {
   "cell_type": "code",
   "execution_count": 11,
   "id": "1ff7608a",
   "metadata": {},
   "outputs": [
    {
     "name": "stdout",
     "output_type": "stream",
     "text": [
      "2\n",
      "6\n",
      "9\n"
     ]
    }
   ],
   "source": [
    "import numpy as np\n",
    "arr = np.array([[1, 2, 3], [4, 5, 6], [7, 8, 9]])  # 2-d array\n",
    "print(arr[0, 1])\n",
    "print(arr[1, -1])\n",
    "print(arr[2, 2])"
   ]
  },
  {
   "cell_type": "markdown",
   "id": "45a8a973",
   "metadata": {},
   "source": [
    "### Slicing an array"
   ]
  },
  {
   "cell_type": "code",
   "execution_count": 10,
   "id": "15dbff4b",
   "metadata": {},
   "outputs": [
    {
     "name": "stdout",
     "output_type": "stream",
     "text": [
      "[2 3]\n",
      "[2 3]\n",
      "[1 3 5]\n",
      "[1 2 3 4 5]\n",
      "[3 4 5]\n",
      "[1 2 3]\n"
     ]
    }
   ],
   "source": [
    "import numpy as np\n",
    "arr = np.array([1, 2, 3, 4, 5])\n",
    "print(arr[1:3])\n",
    "print(arr[-4:-2])\n",
    "print(arr[::2])\n",
    "print(arr[::])\n",
    "print(arr[2:])\n",
    "print(arr[:3])\n"
   ]
  }
 ],
 "metadata": {
  "kernelspec": {
   "display_name": "base",
   "language": "python",
   "name": "python3"
  },
  "language_info": {
   "codemirror_mode": {
    "name": "ipython",
    "version": 3
   },
   "file_extension": ".py",
   "mimetype": "text/x-python",
   "name": "python",
   "nbconvert_exporter": "python",
   "pygments_lexer": "ipython3",
   "version": "3.12.3"
  }
 },
 "nbformat": 4,
 "nbformat_minor": 5
}
