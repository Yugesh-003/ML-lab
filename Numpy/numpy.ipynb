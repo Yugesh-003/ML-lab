{
 "cells": [
  {
   "cell_type": "markdown",
   "id": "9691cbb6",
   "metadata": {},
   "source": [
    "# NUMPY "
   ]
  },
  {
   "cell_type": "code",
   "execution_count": 1,
   "id": "0f19e44e",
   "metadata": {},
   "outputs": [],
   "source": [
    "import numpy as np"
   ]
  },
  {
   "cell_type": "markdown",
   "id": "8d53e615",
   "metadata": {},
   "source": [
    "17/07\n"
   ]
  },
  {
   "cell_type": "markdown",
   "id": "21547ce3",
   "metadata": {},
   "source": [
    "###  Creating an array"
   ]
  },
  {
   "cell_type": "markdown",
   "id": "81e9dde4",
   "metadata": {},
   "source": [
    "1) Create an array from a list"
   ]
  },
  {
   "cell_type": "code",
   "execution_count": null,
   "id": "4457a835",
   "metadata": {},
   "outputs": [
    {
     "name": "stdout",
     "output_type": "stream",
     "text": [
      "[1 2 3 4 5]\n",
      "<class 'numpy.ndarray'>\n"
     ]
    }
   ],
   "source": [
    "arr = np.array([1, 2, 3, 4, 5])\n",
    "print(arr)\n",
    "print(type(arr))"
   ]
  },
  {
   "cell_type": "markdown",
   "id": "52197675",
   "metadata": {},
   "source": [
    "2. Create an array from a tuple"
   ]
  },
  {
   "cell_type": "code",
   "execution_count": null,
   "id": "c3860783",
   "metadata": {},
   "outputs": [
    {
     "name": "stdout",
     "output_type": "stream",
     "text": [
      "[1 2 3 4 5]\n",
      "<class 'numpy.ndarray'>\n"
     ]
    }
   ],
   "source": [
    "\n",
    "arr = np.array((1, 2, 3, 4, 5))\n",
    "print(arr)\n",
    "print(type(arr))"
   ]
  },
  {
   "cell_type": "markdown",
   "id": "8dec1dc9",
   "metadata": {},
   "source": [
    "3) Create an array from a set"
   ]
  },
  {
   "cell_type": "code",
   "execution_count": null,
   "id": "34c417b2",
   "metadata": {},
   "outputs": [
    {
     "name": "stdout",
     "output_type": "stream",
     "text": [
      "{1, 2, 3, 4, 5}\n",
      "<class 'numpy.ndarray'>\n"
     ]
    }
   ],
   "source": [
    "\n",
    "arr = np.array({1, 2, 3, 4, 5})\n",
    "print(arr)\n",
    "print(type(arr))"
   ]
  },
  {
   "cell_type": "markdown",
   "id": "9e6ebf79",
   "metadata": {},
   "source": [
    "4) Create a 0-dimensional array and display data type and array"
   ]
  },
  {
   "cell_type": "code",
   "execution_count": null,
   "id": "ea84d5bc",
   "metadata": {},
   "outputs": [
    {
     "name": "stdout",
     "output_type": "stream",
     "text": [
      "49\n",
      "0\n"
     ]
    }
   ],
   "source": [
    "arr = np.array(49)\n",
    "print(arr)\n",
    "print(arr.ndim)"
   ]
  },
  {
   "cell_type": "markdown",
   "id": "8004d526",
   "metadata": {},
   "source": [
    "5) Create a 1-dimensional array and display data type and array"
   ]
  },
  {
   "cell_type": "code",
   "execution_count": null,
   "id": "df588f35",
   "metadata": {},
   "outputs": [
    {
     "name": "stdout",
     "output_type": "stream",
     "text": [
      "[1 2 3]\n",
      "1\n"
     ]
    }
   ],
   "source": [
    "arr = np.array([1,2,3])\n",
    "print(arr)\n",
    "print(arr.ndim)"
   ]
  },
  {
   "cell_type": "markdown",
   "id": "3502bce8",
   "metadata": {},
   "source": [
    "6) Create a 2-dimensional array and display data type and array"
   ]
  },
  {
   "cell_type": "code",
   "execution_count": null,
   "id": "2a7f2073",
   "metadata": {},
   "outputs": [
    {
     "ename": "ValueError",
     "evalue": "setting an array element with a sequence. The requested array has an inhomogeneous shape after 1 dimensions. The detected shape was (4,) + inhomogeneous part.",
     "output_type": "error",
     "traceback": [
      "\u001b[1;31m---------------------------------------------------------------------------\u001b[0m",
      "\u001b[1;31mValueError\u001b[0m                                Traceback (most recent call last)",
      "Cell \u001b[1;32mIn[39], line 1\u001b[0m\n\u001b[1;32m----> 1\u001b[0m arr \u001b[38;5;241m=\u001b[39m np\u001b[38;5;241m.\u001b[39marray([[\u001b[38;5;241m1\u001b[39m,\u001b[38;5;241m2\u001b[39m,\u001b[38;5;241m3\u001b[39m],[\u001b[38;5;241m4\u001b[39m,\u001b[38;5;241m5\u001b[39m,\u001b[38;5;241m6\u001b[39m],[\u001b[38;5;241m7\u001b[39m,\u001b[38;5;241m9\u001b[39m],[\u001b[38;5;241m10\u001b[39m,\u001b[38;5;241m11\u001b[39m,\u001b[38;5;241m12\u001b[39m]])\n\u001b[0;32m      2\u001b[0m \u001b[38;5;28mprint\u001b[39m(arr)\n\u001b[0;32m      3\u001b[0m \u001b[38;5;28mprint\u001b[39m(arr\u001b[38;5;241m.\u001b[39mndim)\n",
      "\u001b[1;31mValueError\u001b[0m: setting an array element with a sequence. The requested array has an inhomogeneous shape after 1 dimensions. The detected shape was (4,) + inhomogeneous part."
     ]
    }
   ],
   "source": [
    "arr = np.array([[1,2,3],[4,5,6],[7,8,9],[10,11,12]])\n",
    "print(arr)\n",
    "print(arr.ndim)"
   ]
  },
  {
   "cell_type": "markdown",
   "id": "1261652d",
   "metadata": {},
   "source": [
    "19/07"
   ]
  },
  {
   "cell_type": "markdown",
   "id": "a1f83804",
   "metadata": {},
   "source": [
    "### Accessing an array"
   ]
  },
  {
   "cell_type": "code",
   "execution_count": null,
   "id": "78b2aac0",
   "metadata": {},
   "outputs": [
    {
     "name": "stdout",
     "output_type": "stream",
     "text": [
      "1\n",
      "4\n"
     ]
    }
   ],
   "source": [
    "\n",
    "arr = np.array([1, 2, 3, 4, 5])  #1-d array\n",
    "print(arr[0])\n",
    "print(arr[-2])\n"
   ]
  },
  {
   "cell_type": "code",
   "execution_count": null,
   "id": "1ff7608a",
   "metadata": {},
   "outputs": [
    {
     "name": "stdout",
     "output_type": "stream",
     "text": [
      "2\n",
      "6\n",
      "9\n"
     ]
    }
   ],
   "source": [
    "\n",
    "arr = np.array([[1, 2, 3], \n",
    "                [4, 5, 6], \n",
    "                [7, 8, 9]])  # 2-d array\n",
    "print(arr[0, 1])\n",
    "print(arr[1, -1])\n",
    "print(arr[2, 2])"
   ]
  },
  {
   "cell_type": "markdown",
   "id": "45a8a973",
   "metadata": {},
   "source": [
    "### Slicing an 1d array"
   ]
  },
  {
   "cell_type": "code",
   "execution_count": null,
   "id": "15dbff4b",
   "metadata": {},
   "outputs": [
    {
     "name": "stdout",
     "output_type": "stream",
     "text": [
      "[2 3]\n",
      "[2 3]\n",
      "[1 3 5]\n",
      "[1 2 3 4 5]\n",
      "[3 4 5]\n",
      "[1 2 3]\n"
     ]
    }
   ],
   "source": [
    "\n",
    "arr = np.array([1, 2, 3, 4, 5])\n",
    "print(arr[1:3])\n",
    "print(arr[-4:-2])\n",
    "print(arr[::2])\n",
    "print(arr[::])\n",
    "print(arr[2:])\n",
    "print(arr[:3])\n"
   ]
  },
  {
   "cell_type": "markdown",
   "id": "2c1df02f",
   "metadata": {},
   "source": [
    "### Slicing and 2d array"
   ]
  },
  {
   "cell_type": "code",
   "execution_count": null,
   "id": "9775d1c6",
   "metadata": {},
   "outputs": [
    {
     "name": "stdout",
     "output_type": "stream",
     "text": [
      "[6 7 8]\n",
      "[3 8]\n",
      "8\n"
     ]
    }
   ],
   "source": [
    "\n",
    "arr = np.array([[1,2,3,4,5],[6,7,8,9,10]])\n",
    "print(arr[1,0:3])\n",
    "print(arr[0:2,2])\n"
   ]
  },
  {
   "cell_type": "code",
   "execution_count": 1,
   "id": "917562f6",
   "metadata": {},
   "outputs": [
    {
     "name": "stdout",
     "output_type": "stream",
     "text": [
      "[7 8 9]\n",
      "[2 3 4]\n",
      "[7 8 9]\n",
      "[1 2 3 4 5]\n",
      "[3 8]\n",
      "[[3 4]\n",
      " [8 9]]\n"
     ]
    }
   ],
   "source": [
    "import numpy as np\n",
    "arr = np.array([[1, 2, 3, 4, 5], [6, 7, 8, 9, 10]])\n",
    "print(arr[1, 1:4])\n",
    "print(arr[0, 1:4])\n",
    "print(arr[1, 1:-1])\n",
    "#print(arr[0, 1:-1])\n",
    "print(arr[0, :])\n",
    "#print(arr[1, :])\n",
    "print(arr[0:2, 2])\n",
    "print(arr[0:2, 2:4])\n"
   ]
  },
  {
   "cell_type": "markdown",
   "id": "e9463d1f",
   "metadata": {},
   "source": [
    "### Checking data types"
   ]
  },
  {
   "cell_type": "code",
   "execution_count": null,
   "id": "700f5385",
   "metadata": {},
   "outputs": [
    {
     "name": "stdout",
     "output_type": "stream",
     "text": [
      "float64\n"
     ]
    }
   ],
   "source": [
    "\n",
    "arr = np.array([1.1, 2.2, 3.3, 4.4])\n",
    "print(arr.dtype)"
   ]
  },
  {
   "cell_type": "code",
   "execution_count": null,
   "id": "e6cfbc83",
   "metadata": {},
   "outputs": [
    {
     "name": "stdout",
     "output_type": "stream",
     "text": [
      "int32\n"
     ]
    }
   ],
   "source": [
    "\n",
    "arr = np.array([1,2,3,4,5])\n",
    "print(arr.dtype)"
   ]
  },
  {
   "cell_type": "code",
   "execution_count": null,
   "id": "08b51a0c",
   "metadata": {},
   "outputs": [
    {
     "name": "stdout",
     "output_type": "stream",
     "text": [
      "float32\n"
     ]
    }
   ],
   "source": [
    "\n",
    "arr = np.array([1,2,3,4,5],dtype='f')\n",
    "print(arr.dtype)"
   ]
  },
  {
   "cell_type": "code",
   "execution_count": 35,
   "id": "9a58a196",
   "metadata": {},
   "outputs": [
    {
     "name": "stdout",
     "output_type": "stream",
     "text": [
      "|S3\n",
      "[b'1' b'4' b'3' b'44' b'555']\n"
     ]
    }
   ],
   "source": [
    "arr = np.array([1,4,3,44,555],dtype='S')\n",
    "print(arr.dtype)\n",
    "print(arr)"
   ]
  },
  {
   "cell_type": "code",
   "execution_count": 36,
   "id": "6c31ff85",
   "metadata": {},
   "outputs": [
    {
     "name": "stdout",
     "output_type": "stream",
     "text": [
      "<U2\n"
     ]
    }
   ],
   "source": [
    "arr = np.array(['a','bb','c'])\n",
    "print(arr.dtype)"
   ]
  },
  {
   "cell_type": "markdown",
   "id": "ffde87c9",
   "metadata": {},
   "source": [
    "### Copy and view in an array\n"
   ]
  },
  {
   "cell_type": "code",
   "execution_count": null,
   "id": "c7115db6",
   "metadata": {},
   "outputs": [
    {
     "name": "stdout",
     "output_type": "stream",
     "text": [
      "The value of arr :  [1 2 3 4]\n",
      "The value of x :  [0 2 3 4]\n"
     ]
    }
   ],
   "source": [
    "arr = np.array([1,2,3,4])\n",
    "\n",
    "x = arr.copy()   # makeing a copy to a new array\n",
    "x[0] = 0\n",
    "\n",
    "print(\"The value of arr : \",arr)  #output the original array\n",
    "print(\"The value of x : \",x)   # output is changed "
   ]
  },
  {
   "cell_type": "code",
   "execution_count": null,
   "id": "226c14c4",
   "metadata": {},
   "outputs": [
    {
     "name": "stdout",
     "output_type": "stream",
     "text": [
      "The value of arr :  [0 2 3 4]\n",
      "The value of x :  [0 2 3 4]\n"
     ]
    }
   ],
   "source": [
    "arr = np.array([1,2,3,4])\n",
    "\n",
    "x = arr.view()    # view, it is a view of the original array\n",
    "x[0] = 0\n",
    "\n",
    "print(\"The value of arr : \",arr)  #ouput  the original array\n",
    "print(\"The value of x : \",x)   # output is not changed"
   ]
  },
  {
   "cell_type": "markdown",
   "id": "6d17983e",
   "metadata": {},
   "source": [
    "### Displaying the shape of the array"
   ]
  },
  {
   "cell_type": "code",
   "execution_count": null,
   "id": "414c9b23",
   "metadata": {},
   "outputs": [
    {
     "name": "stdout",
     "output_type": "stream",
     "text": [
      "(3,)\n"
     ]
    }
   ],
   "source": [
    "arr = np.array([10,6,7])  #is a 1d array\n",
    "print(arr.shape)  #gives the shape of the array"
   ]
  },
  {
   "cell_type": "code",
   "execution_count": null,
   "id": "d4edb6d1",
   "metadata": {},
   "outputs": [
    {
     "name": "stdout",
     "output_type": "stream",
     "text": [
      "(2, 4)\n"
     ]
    }
   ],
   "source": [
    "arr = np.array([[1,3,5,7],[3,3,4,5]])  #is a 2d array\n",
    "print(arr.shape)  #gives the shape of the array"
   ]
  },
  {
   "cell_type": "code",
   "execution_count": null,
   "id": "320bc941",
   "metadata": {},
   "outputs": [
    {
     "name": "stdout",
     "output_type": "stream",
     "text": [
      "(2, 2, 2)\n"
     ]
    }
   ],
   "source": [
    "arr = np.array([\n",
    "                [[1,2],[4,5]],\n",
    "                [[6,7],[8,9]]\n",
    "                        ])   #is a 3d array\n",
    "print(arr.shape)   #gives the shape of the array"
   ]
  },
  {
   "cell_type": "markdown",
   "id": "b431b206",
   "metadata": {},
   "source": [
    "### Flatten and Ravel"
   ]
  },
  {
   "cell_type": "code",
   "execution_count": null,
   "id": "1ac6ae64",
   "metadata": {},
   "outputs": [],
   "source": [
    "####   ravel()                                      flatten()     ###\n",
    "# --------------------------------------------------------------- ###\n",
    "# 1. Returns only the reference            1. Return copy of the \n",
    "#    /view of the original array              initial array\n",
    "\n",
    "# 2. The changes will be reflected         2. The changes done in new array\n",
    "#    in both original and coped arrays        will not be reflected in original\n",
    "\n",
    "# 3. Fasterthan flatten(), since it        3. Slower than ravel(). Since, it \n",
    "#    wont take up the memory. Simply          occupies memory.\n",
    "#    refer the original only\n"
   ]
  },
  {
   "cell_type": "code",
   "execution_count": 21,
   "id": "c8ec351a",
   "metadata": {},
   "outputs": [
    {
     "name": "stdout",
     "output_type": "stream",
     "text": [
      "[[ 1  2  3  4]\n",
      " [ 5  6  7  8]\n",
      " [ 9 10 11 12]]\n",
      "[ 1  2  3  4  5  6  7  8  9 10 11 12]\n",
      "[ 1  5  9  2  6 10  3  7 11  4  8 12]\n",
      "after changes have made\n",
      "new arr :  [ 0  5  9  2  6 10  3  7 11  4  8 12]\n",
      "og arr :  [1 5 9]\n"
     ]
    }
   ],
   "source": [
    "import numpy as np\n",
    "arr = np.array([[1, 2, 3, 4], [5, 6, 7, 8],[9,10,11,12]])\n",
    "print(arr)\n",
    "\n",
    "newarr=arr.flatten('C')\n",
    "print(newarr)\n",
    "\n",
    "newarr=arr.flatten('f')\n",
    "print(newarr)\n",
    "newarr[0] = 0\n",
    "print(\"after changes have made\")\n",
    "print(\"new arr : \",newarr)\n",
    "print(\"og arr : \",arr[:,0])"
   ]
  },
  {
   "cell_type": "code",
   "execution_count": 19,
   "id": "2827cf8c",
   "metadata": {},
   "outputs": [
    {
     "name": "stdout",
     "output_type": "stream",
     "text": [
      "[[ 1  2  3  4]\n",
      " [ 5  6  7  8]\n",
      " [ 9 10 11 12]]\n",
      "[ 1  2  3  4  5  6  7  8  9 10 11 12]\n",
      "[ 1  5  9  2  6 10  3  7 11  4  8 12]\n",
      "after changes have made\n",
      "new arr :  [ 0  5  9  2  6 10  3  7 11  4  8 12]\n",
      "og arr :  [1 5 9]\n"
     ]
    }
   ],
   "source": [
    "import numpy as np\n",
    "arr = np.array([[1, 2, 3, 4], [5, 6, 7, 8],[9,10,11,12]])\n",
    "print(arr)\n",
    "\n",
    "newarr=arr.ravel('C')\n",
    "print(newarr)\n",
    "\n",
    "newarr=arr.ravel('f')\n",
    "print(newarr)\n",
    "newarr[0] = 0\n",
    "print(\"after changes have made\")\n",
    "print(\"new arr : \",newarr)\n",
    "print(\"og arr : \",arr[:,0])"
   ]
  },
  {
   "cell_type": "code",
   "execution_count": null,
   "id": "6b577490",
   "metadata": {},
   "outputs": [
    {
     "name": "stdout",
     "output_type": "stream",
     "text": [
      "Original array:\n",
      " [[1 2]\n",
      " [3 4]]\n",
      "Og array after the changes:\n",
      " [[100   2]\n",
      " [  3   4]]\n",
      "ravel result:\n",
      " [100   2   3   4]\n",
      "flatten result:\n",
      " [200   3   2   4]\n"
     ]
    }
   ],
   "source": [
    "import numpy as np\n",
    "\n",
    "a = np.array([[1, 2], [3, 4]])\n",
    "\n",
    "print(\"Original array:\\n\", a)\n",
    "\n",
    "# ravel() - may return a view\n",
    "r = a.ravel()\n",
    "\n",
    "# flatten() - always returns a copy\n",
    "f = a.flatten('f')\n",
    "\n",
    "# Modifying r may change 'a' if it's a view\n",
    "r[0] = 100\n",
    "\n",
    "\n",
    "print(\"Og array after the changes:\\n\", a)\n",
    "print(\"ravel result:\\n\", r)\n",
    "print(\"flatten result:\\n\", f)\n"
   ]
  },
  {
   "cell_type": "markdown",
   "id": "7668d541",
   "metadata": {},
   "source": [
    "### Arrange"
   ]
  },
  {
   "cell_type": "code",
   "execution_count": 8,
   "id": "d20e1bdc",
   "metadata": {},
   "outputs": [
    {
     "name": "stdout",
     "output_type": "stream",
     "text": [
      "Original array:\n",
      " [[1 2]\n",
      " [3 4]]\n",
      "[[1 2]\n",
      " [3 4]]\n",
      "flatten result:\n",
      " [200   3   2   4]\n"
     ]
    }
   ],
   "source": [
    "import numpy as np\n",
    "\n",
    "a = np.array([[1, 2], [3, 4]])\n",
    "\n",
    "print(\"Original array:\\n\", a)\n",
    "\n",
    "# flatten() - always returns a copy\n",
    "f = a.flatten('f')\n",
    "\n",
    "f[0] = 200\n",
    "print(a)\n",
    "print(\"flatten result:\\n\", f)"
   ]
  },
  {
   "cell_type": "code",
   "execution_count": 51,
   "id": "bbb56b66",
   "metadata": {},
   "outputs": [
    {
     "name": "stdout",
     "output_type": "stream",
     "text": [
      "[4 6 8]\n"
     ]
    }
   ],
   "source": [
    "# arr = np.arange(4,10)\n",
    "arr = np.arange(4,10,2)\n",
    "\n",
    "print(arr)"
   ]
  },
  {
   "cell_type": "code",
   "execution_count": 53,
   "id": "38288999",
   "metadata": {},
   "outputs": [
    {
     "name": "stdout",
     "output_type": "stream",
     "text": [
      "[[ 2  3]\n",
      " [ 4  5]\n",
      " [ 6  7]\n",
      " [ 8  9]\n",
      " [10 11]\n",
      " [12 13]]\n"
     ]
    }
   ],
   "source": [
    "arr = np.arange(2,14).reshape(6,2)\n",
    "print(arr)"
   ]
  },
  {
   "cell_type": "markdown",
   "id": "862273e3",
   "metadata": {},
   "source": [
    "### Iteration of arrays"
   ]
  },
  {
   "cell_type": "markdown",
   "id": "e7c2c305",
   "metadata": {},
   "source": [
    "##### Iterating an 1-d array"
   ]
  },
  {
   "cell_type": "code",
   "execution_count": 39,
   "id": "d4d3859c",
   "metadata": {},
   "outputs": [
    {
     "name": "stdout",
     "output_type": "stream",
     "text": [
      "[ 1  2  3  4  5  6  7  8  9 10]\n",
      "1\n",
      "2\n",
      "3\n",
      "4\n",
      "5\n",
      "6\n",
      "7\n",
      "8\n",
      "9\n",
      "10\n"
     ]
    }
   ],
   "source": [
    "arr = np.array([1,2,3,4,5,6,7,8,9,10])\n",
    "print(arr)\n",
    "\n",
    "for x in arr:\n",
    "    print(x)"
   ]
  },
  {
   "cell_type": "markdown",
   "id": "d32adbb7",
   "metadata": {},
   "source": [
    "#### Iterating an 2-d array"
   ]
  },
  {
   "cell_type": "code",
   "execution_count": 41,
   "id": "0b453040",
   "metadata": {},
   "outputs": [
    {
     "name": "stdout",
     "output_type": "stream",
     "text": [
      "[[ 1  2  3  4  5  6]\n",
      " [ 7  8  9 10 11 12]]\n",
      "1\n",
      "2\n",
      "3\n",
      "4\n",
      "5\n",
      "6\n",
      "7\n",
      "8\n",
      "9\n",
      "10\n",
      "11\n",
      "12\n"
     ]
    }
   ],
   "source": [
    "arr = np.array([1,2,3,4,5,6,7,8,9,10,11,12]).reshape(2,6)\n",
    "print(arr)\n",
    "\n",
    "for x in arr:\n",
    "    for y in x:\n",
    "        print(y)"
   ]
  },
  {
   "cell_type": "code",
   "execution_count": 10,
   "id": "f4812879",
   "metadata": {},
   "outputs": [
    {
     "name": "stdout",
     "output_type": "stream",
     "text": [
      "[1 2 3 4 5 6]\n"
     ]
    }
   ],
   "source": [
    "arr1 = np.array([1, 2, 3])\n",
    "arr2 = np.array([4, 5, 6])\n",
    "arr = np.concatenate((arr1, arr2))\n",
    "print(arr)"
   ]
  },
  {
   "cell_type": "code",
   "execution_count": 14,
   "id": "b4c158f7",
   "metadata": {},
   "outputs": [
    {
     "name": "stdout",
     "output_type": "stream",
     "text": [
      "[[1 2 3]\n",
      " [4 5 6]]\n"
     ]
    }
   ],
   "source": [
    "arr1 = np.array([1, 2, 3])\n",
    "arr2 = np.array([4, 5, 6])\n",
    "arr = np.stack((arr1, arr2), axis=0)\n",
    "print(arr)"
   ]
  },
  {
   "cell_type": "code",
   "execution_count": 15,
   "id": "2983e521",
   "metadata": {},
   "outputs": [
    {
     "name": "stdout",
     "output_type": "stream",
     "text": [
      "(array([3, 5, 6], dtype=int64),)\n"
     ]
    }
   ],
   "source": [
    "import numpy as np\n",
    "arr = np.array([1, 2, 3, 4, 5, 4, 4])\n",
    "x = np.where(arr == 4) # Index positions of 4 will be displayed\n",
    "print(x)"
   ]
  },
  {
   "cell_type": "code",
   "execution_count": null,
   "id": "0a1bbd3f",
   "metadata": {},
   "outputs": [
    {
     "name": "stdout",
     "output_type": "stream",
     "text": [
      "[1 2 3 4 5 6]\n"
     ]
    }
   ],
   "source": [
    "#using concatenate()\n",
    "\n",
    "arr1 = np.array([1, 2, 3])\n",
    "arr2 = np.array([4, 5, 6])\n",
    "arr = np.concatenate((arr1, arr2))\n",
    "print(arr)"
   ]
  },
  {
   "cell_type": "code",
   "execution_count": null,
   "id": "742d0ab7",
   "metadata": {},
   "outputs": [
    {
     "name": "stdout",
     "output_type": "stream",
     "text": [
      "[[1 2 5 6]\n",
      " [3 4 7 8]]\n"
     ]
    }
   ],
   "source": [
    "arr1 = np.array([[1, 2], \n",
    "                 [3, 4]])\n",
    "arr2 = np.array([[5, 6], \n",
    "                 [7, 8]])\n",
    "arr = np.concatenate((arr1, arr2),axis=1)\n",
    "print(arr)"
   ]
  },
  {
   "cell_type": "code",
   "execution_count": 59,
   "id": "a7d5d9ca",
   "metadata": {},
   "outputs": [
    {
     "name": "stdout",
     "output_type": "stream",
     "text": [
      "[[[1 2]\n",
      "  [5 6]]\n",
      "\n",
      " [[3 4]\n",
      "  [7 8]]]\n"
     ]
    }
   ],
   "source": [
    "#using stack()\n",
    "\n",
    "arr1 = np.array([[1, 2], [3, 4]])\n",
    "arr2 = np.array([[5, 6], [7, 8]])\n",
    "arr = np.stack((arr1, arr2), axis = 1)\n",
    "print(arr)\n"
   ]
  },
  {
   "cell_type": "code",
   "execution_count": 58,
   "id": "c8debd63",
   "metadata": {},
   "outputs": [
    {
     "name": "stdout",
     "output_type": "stream",
     "text": [
      "[[[1 2]\n",
      "  [5 6]]\n",
      "\n",
      " [[3 4]\n",
      "  [7 8]]]\n"
     ]
    }
   ],
   "source": [
    "#using stack()\n",
    "\n",
    "arr1 = np.array([[1, 2], [3, 4]])\n",
    "arr2 = np.array([[5, 6], [7, 8]])\n",
    "arr = np.stack((arr1, arr2), axis = 1)\n",
    "print(arr)\n"
   ]
  },
  {
   "cell_type": "markdown",
   "id": "06aa9022",
   "metadata": {},
   "source": [
    "### Spliting of array"
   ]
  },
  {
   "cell_type": "code",
   "execution_count": 64,
   "id": "db9151b8",
   "metadata": {},
   "outputs": [
    {
     "name": "stdout",
     "output_type": "stream",
     "text": [
      "Spilited into 3 : [array([1, 2, 3, 4]), array([5, 6, 7, 8]), array([ 9, 10, 11, 12])]\n",
      "Spilited into 4 : [array([1, 2, 3, 4, 5, 6]), array([ 7,  8,  9, 10, 11, 12])]\n"
     ]
    }
   ],
   "source": [
    "\n",
    "\n",
    "arr = np.array([1, 2, 3, 4, 5, 6, 7, 8, 9, 10, 11, 12])\n",
    "newarr = np.array_split(arr, 3)\n",
    "print(\"Spilited into 3 :\",newarr)\n",
    "newarr = np.array_split(arr, 2)\n",
    "print(\"Spilited into 4 :\",newarr)\n"
   ]
  },
  {
   "cell_type": "code",
   "execution_count": 22,
   "id": "a9f978d9",
   "metadata": {},
   "outputs": [
    {
     "name": "stdout",
     "output_type": "stream",
     "text": [
      "[array([[1, 2],\n",
      "       [3, 4]]), array([[5, 6],\n",
      "       [7, 8]]), array([[ 9, 10],\n",
      "       [11, 12]])]\n"
     ]
    }
   ],
   "source": [
    "arr = np.array([[1, 2], [3, 4], [5, 6], [7, 8], [9, 10], [11, 12]])\n",
    "newarr = np.array_split(arr, 3)\n",
    "print(newarr)"
   ]
  },
  {
   "cell_type": "markdown",
   "id": "01d48c10",
   "metadata": {},
   "source": [
    "### Searching in an array"
   ]
  },
  {
   "cell_type": "code",
   "execution_count": 67,
   "id": "3da88832",
   "metadata": {},
   "outputs": [
    {
     "name": "stdout",
     "output_type": "stream",
     "text": [
      "[3 5 6]\n"
     ]
    }
   ],
   "source": [
    "arr = np.array([1, 2, 3, 4, 5, 4, 4])\n",
    "x = np.where(arr == 4)\n",
    "print(x[0])"
   ]
  },
  {
   "cell_type": "code",
   "execution_count": 69,
   "id": "305f0336",
   "metadata": {},
   "outputs": [
    {
     "name": "stdout",
     "output_type": "stream",
     "text": [
      "[1 3 5 7]\n"
     ]
    }
   ],
   "source": [
    "arr = np.array([1, 2, 3, 4, 5, 6, 7, 8])\n",
    "#arr = np.array([[3, 2, 4], [5, 0, 1]])\n",
    "x = np.where(arr%2 == 0) \n",
    "print(x[0])"
   ]
  },
  {
   "cell_type": "code",
   "execution_count": 72,
   "id": "ff46872d",
   "metadata": {},
   "outputs": [
    {
     "name": "stdout",
     "output_type": "stream",
     "text": [
      "5\n"
     ]
    }
   ],
   "source": [
    "\n",
    "arr = np.array([16, 70,4, 8, 9])\n",
    "x = np.searchsorted(arr, 70)  # performs a binary search in the array, and returns the index\n",
    "print(x)"
   ]
  },
  {
   "cell_type": "markdown",
   "id": "543f507d",
   "metadata": {},
   "source": [
    "### Sorting array"
   ]
  },
  {
   "cell_type": "code",
   "execution_count": 25,
   "id": "fed2250b",
   "metadata": {},
   "outputs": [
    {
     "name": "stdout",
     "output_type": "stream",
     "text": [
      "[0 1 2 3]\n"
     ]
    }
   ],
   "source": [
    "#sorting an 1d array\n",
    "arr = np.array([3, 2, 0, 1])\n",
    "print(np.sort(arr))"
   ]
  },
  {
   "cell_type": "code",
   "execution_count": 27,
   "id": "6e427778",
   "metadata": {},
   "outputs": [
    {
     "name": "stdout",
     "output_type": "stream",
     "text": [
      "[[2 3 4]\n",
      " [0 1 5]]\n"
     ]
    }
   ],
   "source": [
    "#sorting an 2d array\n",
    "arr = np.array([[3, 2, 4], [5, 0, 1]])\n",
    "print(np.sort(arr))"
   ]
  },
  {
   "cell_type": "markdown",
   "id": "4bb5aca2",
   "metadata": {},
   "source": [
    "### other programs"
   ]
  },
  {
   "cell_type": "code",
   "execution_count": 73,
   "id": "27542e68",
   "metadata": {},
   "outputs": [
    {
     "name": "stdout",
     "output_type": "stream",
     "text": [
      "[[1.+0.j 2.+0.j 3.+0.j]\n",
      " [3.+0.j 4.+0.j 5.+0.j]]\n"
     ]
    }
   ],
   "source": [
    "A = np.array([[1, 2, 3], [3, 4, 5]], dtype = complex) # Array of complex numbers\n",
    "print(A)"
   ]
  },
  {
   "cell_type": "code",
   "execution_count": 74,
   "id": "359607c8",
   "metadata": {},
   "outputs": [
    {
     "name": "stdout",
     "output_type": "stream",
     "text": [
      "[[0. 0. 0.]\n",
      " [0. 0. 0.]]\n"
     ]
    }
   ],
   "source": [
    "# Array of zeros\n",
    "import numpy as np\n",
    "zeors_array = np.zeros( (2, 3))  # Array of zeros as float values\n",
    "print(zeors_array)"
   ]
  },
  {
   "cell_type": "code",
   "execution_count": 75,
   "id": "27026e84",
   "metadata": {},
   "outputs": [
    {
     "name": "stdout",
     "output_type": "stream",
     "text": [
      "[[0 0 0]\n",
      " [0 0 0]]\n"
     ]
    }
   ],
   "source": [
    "# Array of zeros\n",
    "import numpy as np\n",
    "# Array of zeros as integer values\n",
    "zeors_array = np.zeros( (2, 3), dtype = int )\n",
    "print(zeors_array)"
   ]
  },
  {
   "cell_type": "code",
   "execution_count": 76,
   "id": "4dbbf4a4",
   "metadata": {},
   "outputs": [
    {
     "name": "stdout",
     "output_type": "stream",
     "text": [
      "[[1 1 1 1 1]]\n"
     ]
    }
   ],
   "source": [
    "\n",
    "# Array of ones\n",
    "ones_array = np.ones( (1, 5), dtype=np.int32 ) # specifying dtype\n",
    "print(ones_array)      # Output: [[1 1 1 1 1]]"
   ]
  },
  {
   "cell_type": "markdown",
   "id": "d131464c",
   "metadata": {},
   "source": [
    "#### matrix operations\n"
   ]
  },
  {
   "cell_type": "code",
   "execution_count": 77,
   "id": "ba58184a",
   "metadata": {},
   "outputs": [
    {
     "name": "stdout",
     "output_type": "stream",
     "text": [
      "[[11  1]\n",
      " [ 8  0]]\n"
     ]
    }
   ],
   "source": [
    "# Matrix addition\n",
    "import numpy as np\n",
    "A = np.array([[2, 4], [5, -6]])\n",
    "B = np.array([[9, -3], [3, 6]])\n",
    "C = A + B      # adding 2 matrices\n",
    "print(C)"
   ]
  },
  {
   "cell_type": "code",
   "execution_count": 78,
   "id": "f5a7d5f3",
   "metadata": {},
   "outputs": [
    {
     "name": "stdout",
     "output_type": "stream",
     "text": [
      "[[ 36 -12]\n",
      " [ -1   2]]\n"
     ]
    }
   ],
   "source": [
    "# Matrix multiplication using dot()\n",
    "import numpy as np\n",
    "A = np.array([[3, 6, 7], [5, -3, 0]])\n",
    "B = np.array([[1, 1], [2, 1], [3, -3]])\n",
    "C = A.dot(B)\n",
    "print(C)"
   ]
  },
  {
   "cell_type": "code",
   "execution_count": 79,
   "id": "47978e45",
   "metadata": {},
   "outputs": [
    {
     "name": "stdout",
     "output_type": "stream",
     "text": [
      "[[ 18 -12]\n",
      " [ 15 -36]]\n"
     ]
    }
   ],
   "source": [
    "# Matrix multiplication using *\n",
    "import numpy as np\n",
    "A = np.array([[2, 4], [5, -6]])\n",
    "B = np.array([[9, -3], [3, 6]])\n",
    "C = A * B      # adding 2 matrices\n",
    "print(C)"
   ]
  },
  {
   "cell_type": "code",
   "execution_count": 80,
   "id": "1a3f4b12",
   "metadata": {},
   "outputs": [
    {
     "name": "stdout",
     "output_type": "stream",
     "text": [
      "[[ 1  2  3]\n",
      " [ 1  1 -3]]\n"
     ]
    }
   ],
   "source": [
    "# Transpose of a Matrix using transpose()\n",
    "import numpy as np\n",
    "A = np.array([[1, 1], [2, 1], [3, -3]])\n",
    "print(A.transpose())"
   ]
  },
  {
   "cell_type": "code",
   "execution_count": 81,
   "id": "0efd564b",
   "metadata": {},
   "outputs": [
    {
     "name": "stdout",
     "output_type": "stream",
     "text": [
      "[[1 0 0]\n",
      " [0 1 0]\n",
      " [0 0 1]]\n"
     ]
    }
   ],
   "source": [
    "\n",
    "# Identity matrix\n",
    "import numpy as np\n",
    "dimension = int(input(\"Enter the dimension of identitiy matrix: \"))\n",
    "identity_matrix = np.identity(dimension, dtype=\"int\")\n",
    "print(identity_matrix)"
   ]
  },
  {
   "cell_type": "code",
   "execution_count": 82,
   "id": "a1ca4fab",
   "metadata": {},
   "outputs": [
    {
     "name": "stdout",
     "output_type": "stream",
     "text": [
      "Array... [[1 0 0 0]\n",
      " [1 1 0 0]\n",
      " [1 1 1 0]\n",
      " [1 1 1 1]]\n"
     ]
    }
   ],
   "source": [
    "# create an array with zero above the main diagonal\n",
    "import numpy as np\n",
    "# To create an array with zero above the main diagonal\n",
    "# forming a lower triangular matrix, use the numpy.tri() method in Python Numpy\n",
    "# The 1st parameter is the number of rows in the array\n",
    "# The 2nd parameter is the number of columns in the array\n",
    "arr = np.tri(4, 4,dtype = int)\n",
    "# Displaying our array\n",
    "print(\"Array...\",arr)"
   ]
  },
  {
   "cell_type": "code",
   "execution_count": 83,
   "id": "054e8ac5",
   "metadata": {},
   "outputs": [
    {
     "name": "stdout",
     "output_type": "stream",
     "text": [
      "6\n",
      "2\n",
      "(3, 2)\n"
     ]
    }
   ],
   "source": [
    "\n",
    "# Caculating no.of elements in an array\n",
    "import numpy as np\n",
    "A = np.array([[1, 1], [2, 1], [3, -3]])\n",
    "print(A.size) # Display no.of elements\n",
    "print(A.ndim)  # Display the dimension\n",
    "print(A.shape) # Display the shape of an array"
   ]
  },
  {
   "cell_type": "code",
   "execution_count": 86,
   "id": "07ffebb3",
   "metadata": {},
   "outputs": [
    {
     "name": "stdout",
     "output_type": "stream",
     "text": [
      "[[ 0  0  0  0  0]\n",
      " [ 5  6  0  0  0]\n",
      " [10 11 12  0  0]\n",
      " [15 16 17 18  0]\n",
      " [20 21 22 23 24]]\n"
     ]
    }
   ],
   "source": [
    "\n",
    "# To create an array with zero below the main diagonal\n",
    "import numpy as np\n",
    "arr = np.arange(25).reshape(5,5)\n",
    "print(np.tril(arr))\n"
   ]
  },
  {
   "cell_type": "code",
   "execution_count": 87,
   "id": "ab3e6973",
   "metadata": {},
   "outputs": [
    {
     "name": "stdout",
     "output_type": "stream",
     "text": [
      "[[ 0  0  0  0  0]\n",
      " [ 0  0  0  0  0]\n",
      " [10  0  0  0  0]\n",
      " [15 16  0  0  0]\n",
      " [20 21 22  0  0]]\n"
     ]
    }
   ],
   "source": [
    "# To create an array with zero below the main diagonal\n",
    "import numpy as np\n",
    "arr = np.arange(25).reshape(5,5)\n",
    "print(np.tril(arr,k = -2))"
   ]
  },
  {
   "cell_type": "code",
   "execution_count": 88,
   "id": "eb98aa38",
   "metadata": {},
   "outputs": [
    {
     "name": "stdout",
     "output_type": "stream",
     "text": [
      "[[ 0  0  0  0  0]\n",
      " [ 5  0  0  0  0]\n",
      " [10 11  0  0  0]\n",
      " [15 16 17  0  0]\n",
      " [20 21 22 23  0]]\n"
     ]
    }
   ],
   "source": [
    "# To create an array with zero below the main diagonal\n",
    "import numpy as np\n",
    "arr = np.arange(25).reshape(5,5)\n",
    "print(np.tril(arr,k = -1))"
   ]
  },
  {
   "cell_type": "code",
   "execution_count": 89,
   "id": "60a54076",
   "metadata": {},
   "outputs": [
    {
     "name": "stdout",
     "output_type": "stream",
     "text": [
      "[[ 0  1  0  0  0]\n",
      " [ 5  6  7  0  0]\n",
      " [10 11 12 13  0]\n",
      " [15 16 17 18 19]\n",
      " [20 21 22 23 24]]\n"
     ]
    }
   ],
   "source": [
    "# To create an array with zero above the main diagonal using tril()\n",
    "import numpy as np\n",
    "arr = np.arange(25).reshape(5,5)\n",
    "print(np.tril(arr,k = 1))"
   ]
  },
  {
   "cell_type": "code",
   "execution_count": null,
   "id": "150062ab",
   "metadata": {},
   "outputs": [],
   "source": []
  }
 ],
 "metadata": {
  "kernelspec": {
   "display_name": "base",
   "language": "python",
   "name": "python3"
  },
  "language_info": {
   "codemirror_mode": {
    "name": "ipython",
    "version": 3
   },
   "file_extension": ".py",
   "mimetype": "text/x-python",
   "name": "python",
   "nbconvert_exporter": "python",
   "pygments_lexer": "ipython3",
   "version": "3.10.9"
  }
 },
 "nbformat": 4,
 "nbformat_minor": 5
}
