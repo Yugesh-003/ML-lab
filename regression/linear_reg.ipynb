{
 "cells": [
  {
   "cell_type": "code",
   "execution_count": 1,
   "id": "827d23dc",
   "metadata": {},
   "outputs": [],
   "source": [
    "import numpy as np\n",
    "import statsmodels.api as s"
   ]
  },
  {
   "cell_type": "code",
   "execution_count": 2,
   "id": "61eaa7ee",
   "metadata": {},
   "outputs": [],
   "source": [
    "\n",
    "x = np.array([20,45,56,34,28,49])  # Define the independent variable array\n",
    "y = np.array([1,3,5,2,1.6,3.7]) "
   ]
  },
  {
   "cell_type": "code",
   "execution_count": 5,
   "id": "045c39bd",
   "metadata": {},
   "outputs": [
    {
     "name": "stdout",
     "output_type": "stream",
     "text": [
      "[[ 1. 20.]\n",
      " [ 1. 45.]\n",
      " [ 1. 56.]\n",
      " [ 1. 34.]\n",
      " [ 1. 28.]\n",
      " [ 1. 49.]]\n",
      "(6,)\n",
      "(6, 2)\n"
     ]
    }
   ],
   "source": [
    "x_const = s.add_constant(x)\n",
    "\n",
    "print(x_const)\n",
    "print(x.shape)\n",
    "print(x_const.shape)"
   ]
  },
  {
   "cell_type": "code",
   "execution_count": 6,
   "id": "66851242",
   "metadata": {},
   "outputs": [
    {
     "name": "stdout",
     "output_type": "stream",
     "text": [
      "                            OLS Regression Results                            \n",
      "==============================================================================\n",
      "Dep. Variable:                      y   R-squared:                       0.956\n",
      "Model:                            OLS   Adj. R-squared:                  0.945\n",
      "Method:                 Least Squares   F-statistic:                     87.38\n",
      "Date:                Fri, 11 Jul 2025   Prob (F-statistic):           0.000729\n",
      "Time:                        13:22:21   Log-Likelihood:               -0.93716\n",
      "No. Observations:                   6   AIC:                             5.874\n",
      "Df Residuals:                       4   BIC:                             5.458\n",
      "Df Model:                           1                                         \n",
      "Covariance Type:            nonrobust                                         \n",
      "==============================================================================\n",
      "                 coef    std err          t      P>|t|      [0.025      0.975]\n",
      "------------------------------------------------------------------------------\n",
      "const         -1.3866      0.461     -3.007      0.040      -2.667      -0.106\n",
      "x1             0.1061      0.011      9.348      0.001       0.075       0.138\n",
      "==============================================================================\n",
      "Omnibus:                          nan   Durbin-Watson:                   3.405\n",
      "Prob(Omnibus):                    nan   Jarque-Bera (JB):                0.426\n",
      "Skew:                           0.257   Prob(JB):                        0.808\n",
      "Kurtosis:                       1.799   Cond. No.                         133.\n",
      "==============================================================================\n",
      "\n",
      "Notes:\n",
      "[1] Standard Errors assume that the covariance matrix of the errors is correctly specified.\n"
     ]
    },
    {
     "name": "stderr",
     "output_type": "stream",
     "text": [
      "c:\\ProgramData\\anaconda3\\lib\\site-packages\\statsmodels\\stats\\stattools.py:74: ValueWarning: omni_normtest is not valid with less than 8 observations; 6 samples were given.\n",
      "  warn(\"omni_normtest is not valid with less than 8 observations; %i \"\n"
     ]
    }
   ],
   "source": [
    "model = s.OLS(y,x_const).fit()   # Fit the ordinary least squares (OLS) linear regression model\n",
    "print(model.summary())  # Print the summary of the regression model"
   ]
  },
  {
   "cell_type": "code",
   "execution_count": 9,
   "id": "b63494d8",
   "metadata": {},
   "outputs": [
    {
     "name": "stdout",
     "output_type": "stream",
     "text": [
      "Predicted Value  :   3.8132426628489613\n",
      "(1, 2)\n"
     ]
    }
   ],
   "source": [
    "\n",
    "new_x = s.add_constant(np.array([[49]]), has_constant='add')\n",
    "pred = model.predict(new_x)\n",
    "print('Predicted Value  :  ',pred[0])\n",
    "#print(x_with_const.shape)  # should be (6, 2) if constant was added\n",
    "print(new_x.shape)\n"
   ]
  },
  {
   "cell_type": "code",
   "execution_count": null,
   "id": "29d84e94",
   "metadata": {},
   "outputs": [],
   "source": []
  }
 ],
 "metadata": {
  "kernelspec": {
   "display_name": "base",
   "language": "python",
   "name": "python3"
  },
  "language_info": {
   "codemirror_mode": {
    "name": "ipython",
    "version": 3
   },
   "file_extension": ".py",
   "mimetype": "text/x-python",
   "name": "python",
   "nbconvert_exporter": "python",
   "pygments_lexer": "ipython3",
   "version": "3.10.9"
  }
 },
 "nbformat": 4,
 "nbformat_minor": 5
}
